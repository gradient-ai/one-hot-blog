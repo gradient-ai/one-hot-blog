{
 "cells": [
  {
   "cell_type": "markdown",
   "metadata": {},
   "source": [
    "# One-hot encoding demo\n",
    "\n",
    "\n",
    "## Part 1: Home price dataset dummy variables"
   ]
  },
  {
   "cell_type": "code",
   "execution_count": null,
   "metadata": {},
   "outputs": [],
   "source": [
    "import pandas as pd\n",
    "df = pd.read_csv(\"home price.csv\") # loading the dataset\n",
    "dummies = pd.get_dummies(df.town)\n",
    "merged = pd.concat([df,dummies],axis=1) # merging dummy variable\n",
    "final = merged.drop(['town'], axis=1) # merging the ‘Town’ column\n",
    "final = final.drop(['west windsor’], axis=1) # dropping anyone dummy variable.Here dropping ‘west windsor’"
   ]
  },
  {
   "cell_type": "markdown",
   "metadata": {},
   "source": [
    "## Part 2: Handling Multi-categorical data"
   ]
  },
  {
   "cell_type": "code",
   "execution_count": null,
   "metadata": {},
   "outputs": [],
   "source": [
    "import pandas as pd\n",
    "import numpy as np\n",
    "df = pd.read_csv('mercedesbenz.csv', usecols=['X1', 'X2'])\n",
    "df.head()\n",
    "counts = df['X1'].value_counts().sum() # Counting number of labels for ‘X1’ column\n",
    "top_10_labels = [y for y in df.X1.value_counts().sort_values(ascending=False).head(10).index]    # checking the top 10 labels\n",
    "df.X1.value_counts().sort_values(ascending=False).head(10) # arranging the labels in ascending order\n",
    "df=pd.get_dummies(df['X1']).sample(10) #applying One-hot encoding"
   ]
  },
  {
   "cell_type": "markdown",
   "metadata": {},
   "source": [
    "# Part 3: Full Demo\n",
    "\n",
    "\n",
    "In this code sample, we are preprocessing the categorical features available in ‘home price’ dataset. We have taken the same example (explained above), so that we can easily relate to it. Both One-hot encoding and label encoding are used. We implemented One-hot encoding and did the following:\n",
    "- Dummy variables are created\n",
    "- Merged with the original dataset\n",
    "- Certain columns are dropped to avoid multicollinearity \n",
    "\n",
    "Label encoding is applied using scikit-learn's LabelEncoder, introducing a new 'town_encoded' column In label encoding the following steps are performed:\n",
    "- Introduced a new 'town_encoded' column\n",
    "- Data is split into dependent and independent variables for both encoding methods\n",
    "- Train test split is performed (for both One-hot encoding and label encoding) \n",
    "\n",
    "Comparison for One-hot encoding and label encoding is performed by applying Linear regression models trained on both one-hot encoded and label-encoded datasets, and their predictive performance is evaluated using R-squared scores. "
   ]
  },
  {
   "cell_type": "code",
   "execution_count": null,
   "metadata": {},
   "outputs": [],
   "source": [
    "import pandas as pd\n",
    "from sklearn.preprocessing import LabelEncoder\n",
    "from sklearn.model_selection import train_test_split\n",
    "from sklearn.linear_model import LinearRegression\n",
    "from sklearn.metrics import r2_score\n",
    "\n",
    "# Read the dataset\n",
    "df = pd.read_csv(\"home price.csv\")\n",
    "\n",
    "# One-Hot Encoding\n",
    "dummies = pd.get_dummies(df['town'])\n",
    "merged_one_hot = pd.concat([df, dummies], axis=1)\n",
    "final_one_hot = merged_one_hot.drop(['town'], axis=1)\n",
    "final_one_hot = final_one_hot.drop(['robinsville'], axis=1)\n",
    "\n",
    "# Label Encoding\n",
    "label_encoder = LabelEncoder()\n",
    "df['town_encoded'] = label_encoder.fit_transform(df['town'])\n",
    "final_label_encoded = df.drop(['town'], axis=1)\n",
    "\n",
    "# Separate features and target for One-Hot Encoding\n",
    "X_one_hot = final_one_hot.drop('price', axis=1)\n",
    "y_one_hot = final_one_hot['price']\n",
    "\n",
    "# Separate features and target for Label Encoding\n",
    "X_label_encoded = final_label_encoded.drop('price', axis=1)\n",
    "y_label_encoded = final_label_encoded['price']\n",
    "\n",
    "# Split the data into train and test sets for One-Hot Encoding\n",
    "X_train_one_hot, X_test_one_hot, y_train_one_hot, y_test_one_hot = train_test_split(X_one_hot, y_one_hot, test_size=0.2, random_state=42)\n",
    "\n",
    "# Split the data into train and test sets for Label Encoding\n",
    "X_train_label_encoded, X_test_label_encoded, y_train_label_encoded, y_test_label_encoded = train_test_split(X_label_encoded, y_label_encoded, test_size=0.2, random_state=42)\n",
    "\n",
    "# Model using One-Hot Encoded data\n",
    "model_one_hot = LinearRegression()\n",
    "model_one_hot.fit(X_train_one_hot, y_train_one_hot)\n",
    "predictions_one_hot = model_one_hot.predict(X_test_one_hot)\n",
    "score_one_hot = r2_score(y_test_one_hot, predictions_one_hot)\n",
    "\n",
    "# Model using Label Encoded data\n",
    "model_label_encoded = LinearRegression()\n",
    "model_label_encoded.fit(X_train_label_encoded, y_train_label_encoded)\n",
    "predictions_label_encoded = model_label_encoded.predict(X_test_label_encoded)\n",
    "score_label_encoded = r2_score(y_test_label_encoded, predictions_label_encoded)\n",
    "\n",
    "# Compare results\n",
    "print(\"R-squared score for One-Hot Encoded data:\", score_one_hot)\n",
    "print(\"R-squared score for Label Encoded data:\", score_label_encoded)"
   ]
  },
  {
   "cell_type": "markdown",
   "metadata": {},
   "source": []
  }
 ],
 "metadata": {
  "language_info": {
   "name": "python"
  },
  "orig_nbformat": 4
 },
 "nbformat": 4,
 "nbformat_minor": 2
}
